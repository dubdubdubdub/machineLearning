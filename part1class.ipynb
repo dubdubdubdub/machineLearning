{
  "nbformat": 4,
  "nbformat_minor": 0,
  "metadata": {
    "colab": {
      "name": "Untitled0.ipynb",
      "provenance": [],
      "authorship_tag": "ABX9TyPK+sih5VZgT8bq5hvwYApO",
      "include_colab_link": true
    },
    "kernelspec": {
      "name": "python3",
      "display_name": "Python 3"
    },
    "language_info": {
      "name": "python"
    }
  },
  "cells": [
    {
      "cell_type": "markdown",
      "metadata": {
        "id": "view-in-github",
        "colab_type": "text"
      },
      "source": [
        "<a href=\"https://colab.research.google.com/github/dubdubdubdub/machineLearning/blob/main/part1class.ipynb\" target=\"_parent\"><img src=\"https://colab.research.google.com/assets/colab-badge.svg\" alt=\"Open In Colab\"/></a>"
      ]
    },
    {
      "cell_type": "code",
      "metadata": {
        "id": "UErTL4JQe4Sr"
      },
      "source": [
        "# features (1 sim, 0 não)\n",
        "# pelo longo ?\n",
        "# perna curta ?\n",
        "# faz auau ?\n",
        "pig1 = [0, 1, 0]\n",
        "pig2 = [0, 1, 1]\n",
        "pig3 = [1, 1, 0]\n",
        "\n",
        "dog1 = [0, 1, 1]\n",
        "dog2 = [1, 0, 1]\n",
        "dog3 = [1, 1, 1]\n",
        "\n",
        "# 1 => pig, 0 => dog\n",
        "# x => dados, y => classes\n",
        "# training data\n",
        "train_x = [pig1, pig2, pig3, dog1, dog2, dog3]\n",
        "train_y = [1,1,1,0,0,0] # labels/etiqueta"
      ],
      "execution_count": 1,
      "outputs": []
    },
    {
      "cell_type": "code",
      "metadata": {
        "colab": {
          "base_uri": "https://localhost:8080/"
        },
        "id": "D02Dz8ODf2RE",
        "outputId": "4309cd04-c21a-4f09-91b9-903ad1179ac5"
      },
      "source": [
        "from sklearn.svm import LinearSVC\n",
        "\n",
        "model = LinearSVC()\n",
        "model.fit(train_x, train_y)"
      ],
      "execution_count": 2,
      "outputs": [
        {
          "output_type": "execute_result",
          "data": {
            "text/plain": [
              "LinearSVC(C=1.0, class_weight=None, dual=True, fit_intercept=True,\n",
              "          intercept_scaling=1, loss='squared_hinge', max_iter=1000,\n",
              "          multi_class='ovr', penalty='l2', random_state=None, tol=0.0001,\n",
              "          verbose=0)"
            ]
          },
          "metadata": {
            "tags": []
          },
          "execution_count": 2
        }
      ]
    },
    {
      "cell_type": "code",
      "metadata": {
        "colab": {
          "base_uri": "https://localhost:8080/"
        },
        "id": "0A7FEsEBjGW3",
        "outputId": "4ab32e81-e054-4592-a126-e2b50140558d"
      },
      "source": [
        "misterious_animal = [1, 1, 1] # Animal created for test\n",
        "model.predict([misterious_animal])"
      ],
      "execution_count": 3,
      "outputs": [
        {
          "output_type": "execute_result",
          "data": {
            "text/plain": [
              "array([0])"
            ]
          },
          "metadata": {
            "tags": []
          },
          "execution_count": 3
        }
      ]
    },
    {
      "cell_type": "code",
      "metadata": {
        "id": "pUO0PkkYjRlP"
      },
      "source": [
        "misterious_animal1 = [1,1,1]\n",
        "misterious_animal2 = [1,1,0]\n",
        "misterious_animal3 = [0,1,1]\n",
        "\n",
        "test_x = [misterious_animal1, misterious_animal2, misterious_animal3]\n",
        "test_y = [0 ,1 ,1]"
      ],
      "execution_count": 4,
      "outputs": []
    },
    {
      "cell_type": "code",
      "metadata": {
        "id": "DIjRLGCApX24"
      },
      "source": [
        "previsoes = model.predict(test_x)"
      ],
      "execution_count": 5,
      "outputs": []
    },
    {
      "cell_type": "code",
      "metadata": {
        "colab": {
          "base_uri": "https://localhost:8080/"
        },
        "id": "2vw_-Sx6kRuf",
        "outputId": "4d308a9c-4007-4529-fa97-027cb7f483e1"
      },
      "source": [
        "previsoes == test_y"
      ],
      "execution_count": 6,
      "outputs": [
        {
          "output_type": "execute_result",
          "data": {
            "text/plain": [
              "array([ True,  True, False])"
            ]
          },
          "metadata": {
            "tags": []
          },
          "execution_count": 6
        }
      ]
    },
    {
      "cell_type": "code",
      "metadata": {
        "colab": {
          "base_uri": "https://localhost:8080/"
        },
        "id": "kkdWjW3TkaWt",
        "outputId": "8f536342-784d-4de2-c7e5-a36ce5451703"
      },
      "source": [
        "corrects = (previsoes == test_y).sum()\n",
        "total = len(test_x)\n",
        "tx_acerto = corrects/total\n",
        "print(\"Taxa de Acerto %.2f\" % (tx_acerto*100))"
      ],
      "execution_count": 17,
      "outputs": [
        {
          "output_type": "stream",
          "text": [
            "Taxa de Acerto 66.67\n"
          ],
          "name": "stdout"
        }
      ]
    },
    {
      "cell_type": "code",
      "metadata": {
        "id": "bYIr0XN5lVXE"
      },
      "source": [
        "from sklearn.metrics import accuracy_score"
      ],
      "execution_count": 11,
      "outputs": []
    },
    {
      "cell_type": "code",
      "metadata": {
        "colab": {
          "base_uri": "https://localhost:8080/"
        },
        "id": "_iLJIfKOmwvb",
        "outputId": "d96a7b0f-4387-4686-f932-853932cee653"
      },
      "source": [
        "taxa_de_acerto = accuracy_score(test_y, previsoes)\n",
        "print(\"Taxa de Acerto %.2f\" % (taxa_de_acerto*100))"
      ],
      "execution_count": 15,
      "outputs": [
        {
          "output_type": "stream",
          "text": [
            "Taxa de Acerto 66.67\n"
          ],
          "name": "stdout"
        }
      ]
    }
  ]
}